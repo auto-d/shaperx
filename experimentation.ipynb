{
 "cells": [
  {
   "cell_type": "markdown",
   "id": "6321016e-bc02-4d8f-84f5-0cfcb5999f1f",
   "metadata": {
    "jp-MarkdownHeadingCollapsed": true
   },
   "source": [
    "## Datasets in MedShapeNetCore"
   ]
  },
  {
   "cell_type": "markdown",
   "id": "17cfac60-b781-44bf-a37f-52a58dc2df62",
   "metadata": {},
   "source": [
    "ASOCA:                 {'url': 'https://zenodo.org/records/10623506/files/medshapenetcore_ASOCA.npz?download=1', 'size': '41.8Mb', 'num_sample': '40', 'disease': 'coronary artery disease,CAD,atherosclerosis,plaque', 'link': 'https://asoca.grand-challenge.org/', 'information': 'coronary arteries', 'organs_key_words': 'coronary arteries,artery', 'avi_keys': ['mask', 'point', 'mesh->vertices->sample index', 'mesh->faces->sample index', 'label']}                     \n",
    "___\n",
    "FLARE:                 {'url': 'https://zenodo.org/records/10623506/files/medshapenetcore_FLARE.npz?download=1', 'size': '555Mb', 'num_sample': '650', 'disease': ' ', 'link': 'https://flare.grand-challenge.org/', 'information': 'abdominal organs', 'organs_key_words': 'liver,kidney,spleen,pancreas,aorta,inferior vena cava,adrenal gland,gallbladder,esophagus,stomach,duodenum', 'avi_keys': ['organ->mask', 'organ->point', 'organ->mesh->vertices->sample index', 'organ->mesh->faces->sample index']}                     \n",
    "___\n",
    "KITS:                  {'url': 'https://zenodo.org/records/10623506/files/medshapenetcore_KITS.npz?download=1', 'size': '401Mb', 'num_sample': '489', 'disease': 'tumor,tumour', 'link': 'https://kits-challenge.org/kits23/', 'information': 'kidney and kidney tumor', 'organs_key_words': 'kidney,tumor', 'avi_keys': ['mask', 'point', 'mesh->vertices->sample index', 'mesh->faces->sample index', 'label->mask']}                      \n",
    "___\n",
    "PULMONARY:             {'url': 'https://zenodo.org/records/10623506/files/medshapenetcore_PULMONARY.npz?download=1', 'size': '1.14Gb', 'num_sample': '2397', 'disease': ' ', 'link': 'https://arxiv.org/pdf/2309.17329.pdf', 'information': 'pulmonary arteries, including the airway,artery, vein', 'organs_key_words': 'pulmonary arteries, airway,artery,vein,lung', 'avi_keys': ['organ->mask', 'orgna->point', 'organ->mesh->vertices->sample index', 'organ->mesh->faces->sample index']}                 \n",
    "___\n",
    "ThoracicAorta_Saitta:  {'url': 'https://zenodo.org/records/10623506/files/medshapenetcore_ThoracicAorta_Saitta.npz?download=1', 'size': '515.57Mb', 'num_sample': '500', 'disease': 'thoracic aortic aneurysm', 'link': 'https://pubmed.ncbi.nlm.nih.gov/35083618/', 'information': 'thoracic aorta with arch branches', 'organs_key_words': 'thoracic aorta', 'avi_keys': ['mask->sample index', 'point->sample index', 'mesh->vertices->sample index', 'mesh->faces->sample index']}      \n",
    "___\n",
    "CoronaryArteries:      {'url': 'https://zenodo.org/records/10623506/files/medshapenetcore_CoronaryArteries.npz?download=1', 'size': '677.02Mb', 'num_sample': '544', 'disease': 'coronary artery calcium,CAC,tortuosity', 'link': 'https://pubs.aip.org/aip/apb/article/8/1/016103/3061557/A-fully-automated-deep-learning-approach-for', 'information': 'coronary arteries', 'organs_key_words': 'coronary arteries, artery', 'avi_keys': ['mask', 'point', 'mesh->vertices->sample index', 'mesh->faces->sample index']}          \n",
    "___\n",
    "FaceVR:                {'url': 'https://zenodo.org/records/10623506/files/medshapenetcore_FaceVR.npz?download=1', 'size': '14.9Mb', 'num_sample': '11', 'disease': ' ', 'link': 'https://figshare.com/articles/dataset/Medical_Augmented_Reality_Facial_Data_Collection/8857007/2', 'information': '3D facial models for VR', 'organs_key_words': 'face,facial', 'avi_keys': ['point', 'mesh->vertices', 'mesh->faces']}                    \n",
    "___\n",
    "ToothFairy:            {'url': 'https://zenodo.org/records/10623506/files/medshapenetcore_ToothFairy.npz?download=1', 'size': '145.94Mb', 'num_sample': '153', 'disease': ' ', 'link': 'https://toothfairychallenges.github.io/', 'information': 'inferior alveolar nerve segmentations', 'organs_key_words': 'maxillofacial,teeth,tooth,inferior alveolar nerve', 'avi_keys': ['mask->sample index', 'point->sample index', 'mesh->vertices->sample index', 'mesh->faces->sample index']}                \n",
    "___\n",
    "AutoImplantCraniotomy: {'url': 'https://zenodo.org/records/10623506/files/medshapenetcore_AutoImplantCraniotomy.npz?download=1', 'size': '6.41Mb', 'num_sample': '11', 'disease': 'cranial defect,craniotomy', 'link': 'https://autoimplant2021.grand-challenge.org/', 'information': 'skull reconstruction and cranial implant design', 'organs_key_words': 'skull,craniotomy', 'avi_keys': ['mask']}     \n",
    "___\n",
    "SurgicalInstruments:   {'url': 'https://zenodo.org/records/10623506/files/medshapenetcore_SurgicalInstruments.npz?download=1', 'size': '5.30Mb', 'num_sample': '106', 'disease': ' ', 'link': 'https://www.nature.com/articles/s41597-023-02684-0', 'information': '3D surgical instrument models', 'organs_key_words': 'surgical, surgery, instruments, instrument', 'avi_keys': ['mask->sample index', 'point->sample index', 'mesh->vertices->sample index', 'mesh->faces->sample index']}        \n",
    "___\n",
    "AVT:                   {'url': 'https://zenodo.org/records/10623506/files/medshapenetcore_AVT.npz?download=1', 'size': '115.37Mb', 'num_sample': '42', 'disease': ' ', 'link': 'https://pubmed.ncbi.nlm.nih.gov/35059483/', 'information': 'aortic vessel tree', 'organs_key_words': 'aorta,vessel,vessels,tree', 'avi_keys': ['mask->sample index', 'point->sample index', 'mesh->vertices->sample index', 'mesh->faces->sample index']}                        \n",
    "___\n",
    "3DTeethSeg:            {'url': 'https://zenodo.org/records/10623506/files/medshapenetcore_3DTeethSeg.npz?download=1', 'size': '3.7Gb', 'num_sample': '1800', 'disease': ' ', 'link': 'https://github.com/abenhamadou/3DTeethSeg22_challenge', 'information': '3D teeth labeling and semantic segmentation', 'organs_key_words': 'teeth,tooth', 'avi_keys': ['patient ID->mesh->vertices', 'patient ID->mesh->faces']}                  \n",
    "_____\n",
    "number of datasets: 12\n",
    "total number of samples: 6743\n",
    "___basic commands___\n",
    "['python -m MedShapeNetCore download DARASET', 'python -m MedShapeNetCore clean', 'python -m MedShapeNetCore check_available_keys DARASET', 'python -m MedShapeNetCore search_by_organ ORGAN', 'python -m MedShapeNetCore search_by_disease DISEASE', 'python -m MedShapeNetCore search_and_download ORGAN']"
   ]
  },
  {
   "cell_type": "markdown",
   "id": "02824d78-e03c-4dce-ba97-c1eceefc44ac",
   "metadata": {},
   "source": [
    "## Potential Projects"
   ]
  },
  {
   "cell_type": "markdown",
   "id": "6d6fc477-bb6b-4379-9559-dee1d5f62b04",
   "metadata": {},
   "source": [
    "Cranial Dataset\n",
    "- use 3d data as the label, generate 2d images from many perspectives, train a model to produce a 3d model from a 2d image of whatever organ we can find sufficient samples of\n",
    "- create 2d images from many perspectives based on a 3d model (.stl) "
   ]
  },
  {
   "cell_type": "markdown",
   "id": "af5d4715-9a45-4dbf-8885-89ff6fdfa76f",
   "metadata": {},
   "source": [
    "## Experimentation"
   ]
  },
  {
   "cell_type": "markdown",
   "id": "7cfd0d62-40ad-4edf-8183-18b61f6ce0e9",
   "metadata": {},
   "source": [
    "The cranial implant dataset has a number of 3d models in STL format of skulls in various states of implantation (presumably). Investigate the nature and quality of the dataset, ultimately assessing whether or not the potential exists to train a vision model that reproduces skulls models from a 2d image. "
   ]
  },
  {
   "cell_type": "markdown",
   "id": "697a65d2-c534-433f-8d48-298c14a01a22",
   "metadata": {},
   "source": [
    "### Cranial Dataset"
   ]
  },
  {
   "cell_type": "markdown",
   "id": "1caebec6-ad6f-40b1-92ab-7a0157de046c",
   "metadata": {},
   "source": [
    "See also https://github.com/Jianningli/medshapenet-feedback/tree/main/skull-reconstruction. However the test data here is all in .nnrd format, which I'm too lazy to figure out how to convert before we explore the .stl data. \n",
    "\n",
    "It is suggested we can use the python module to download individual datasets, but I get a very small and apparently unreadable numpy zip when I run this: \n",
    "`% python -m MedShapeNetCore download AutoImplantCraniotomy`"
   ]
  },
  {
   "cell_type": "markdown",
   "id": "6b564928-cd1d-4167-9d26-4fdc63189533",
   "metadata": {},
   "source": [
    "Retreating to the instructions on the Streamlit site (https://medshapenet-ikim.streamlit.app/Download)... grabbed the full list of files (MedShapeNetDataset.txt), grep'ed for 'skull' and downloaded all: \n",
    "- `grep -i skull MedShapeNetDataset.txt > skull_data.txt`\n",
    "- `wget --content-disposition --trust-server-names -i skull_data.txt`"
   ]
  },
  {
   "cell_type": "markdown",
   "id": "e4de7fdd-ff8d-4ebb-b73e-d713c41c1bda",
   "metadata": {},
   "source": [
    "A bunch of the stl files are unable to be read, they appear to be those with a relatively small size and are earlier in the dataset. Unclear what's going on here. Later images can be read and rendered with either Open3d or numpy-stl. See below. "
   ]
  },
  {
   "cell_type": "markdown",
   "id": "ab87d462-a04e-4989-9272-f1b0dc619307",
   "metadata": {},
   "source": [
    "**Visualize w/ Open3d** "
   ]
  },
  {
   "cell_type": "code",
   "execution_count": 11,
   "id": "0196830b-999b-49bd-8770-00b64ef92ae1",
   "metadata": {},
   "outputs": [
    {
     "name": "stderr",
     "output_type": "stream",
     "text": [
      "/Users/jason/Local/school/vision_project/venv/lib/python3.9/site-packages/urllib3/__init__.py:35: NotOpenSSLWarning: urllib3 v2 only supports OpenSSL 1.1.1+, currently the 'ssl' module is compiled with 'LibreSSL 2.8.3'. See: https://github.com/urllib3/urllib3/issues/3020\n",
      "  warnings.warn(\n"
     ]
    }
   ],
   "source": [
    "import open3d as o3d"
   ]
  },
  {
   "cell_type": "code",
   "execution_count": 12,
   "id": "819e05a3-8fc4-437a-8f3b-b15cc6c1a353",
   "metadata": {},
   "outputs": [],
   "source": [
    "file = '/Users/jason/Local/school/vision_project/mystery_data/ct_skull_50.stl' \n",
    "file2 = '/Users/jason/Local/school/vision_project/mystery_data/917558_skull.stl' \n",
    "file3 = '/Users/jason/Local/school/vision_project/mystery_data/150423_skull.stl' "
   ]
  },
  {
   "cell_type": "code",
   "execution_count": 13,
   "id": "6c2d704d-e7d1-4a41-a84d-035e94484543",
   "metadata": {},
   "outputs": [],
   "source": [
    "# Open3d\n",
    "mesh1 = o3d.io.read_triangle_mesh(file2)"
   ]
  },
  {
   "cell_type": "code",
   "execution_count": 14,
   "id": "9915f58f-2ad6-4629-aa69-c321b47869cd",
   "metadata": {},
   "outputs": [
    {
     "data": {
      "text/plain": [
       "TriangleMesh with 3282260 points and 1130080 triangles."
      ]
     },
     "execution_count": 14,
     "metadata": {},
     "output_type": "execute_result"
    }
   ],
   "source": [
    "mesh1"
   ]
  },
  {
   "cell_type": "markdown",
   "id": "954dab8e-ada3-4c6d-947b-d918dd4df528",
   "metadata": {},
   "source": [
    "This launches an external window that hangs when you close it. Some work to do to figure out what the right context is to launch if we will be doing this more than occasionally. "
   ]
  },
  {
   "cell_type": "code",
   "execution_count": 15,
   "id": "f3bb42b1-e351-481f-a786-1d6bf1c8a557",
   "metadata": {},
   "outputs": [
    {
     "name": "stdout",
     "output_type": "stream",
     "text": [
      "\u001b[1;33m[Open3D WARNING] GLFW Error: Cocoa: Failed to find service port for display\u001b[0;m\n"
     ]
    }
   ],
   "source": [
    "mesh1.compute_vertex_normals()\n",
    "o3d.visualization.draw_geometries([mesh1], window_name=\"STL Viewer\")"
   ]
  },
  {
   "cell_type": "markdown",
   "id": "6ec7a120-5754-4970-90fd-cc328bb6cd70",
   "metadata": {},
   "source": [
    "**Visualize w/ numpy-stl**\n",
    "\n",
    "https://github.com/wolph/numpy-stl"
   ]
  },
  {
   "cell_type": "code",
   "execution_count": 8,
   "id": "05042428-438f-4124-b158-170862b47d4c",
   "metadata": {},
   "outputs": [],
   "source": [
    "import numpy as np\n",
    "import stl"
   ]
  },
  {
   "cell_type": "code",
   "execution_count": 9,
   "id": "15a8057f-8b42-469f-a8ea-ad0824d43624",
   "metadata": {},
   "outputs": [],
   "source": [
    "mesh2 = stl.mesh.Mesh.from_file(file2)"
   ]
  },
  {
   "cell_type": "code",
   "execution_count": 10,
   "id": "4254bdee-08fd-480c-b40f-4eda60201622",
   "metadata": {},
   "outputs": [
    {
     "data": {
      "image/png": "[encoded data removed]",
      "text/plain": [
       "<Figure size 640x480 with 1 Axes>"
      ]
     },
     "metadata": {},
     "output_type": "display_data"
    }
   ],
   "source": [
    "from stl import mesh\n",
    "from mpl_toolkits import mplot3d\n",
    "from matplotlib import pyplot\n",
    "\n",
    "# Create a new plot\n",
    "figure = pyplot.figure()\n",
    "axes = figure.add_subplot(projection='3d')\n",
    "\n",
    "# Add the vectors to the plot\n",
    "axes.add_collection3d(mplot3d.art3d.Poly3DCollection(mesh2.vectors))\n",
    "\n",
    "# Auto scale to the mesh size\n",
    "scale = mesh2.points.flatten()\n",
    "axes.auto_scale_xyz(scale, scale, scale)\n",
    "\n",
    "# Show the plot to the screen\n",
    "pyplot.show()"
   ]
  },
  {
   "cell_type": "markdown",
   "id": "3f123ca2-59e9-4057-a446-89d4c2debe3a",
   "metadata": {},
   "source": [
    "**Visualize w/ MSN utilities**\n",
    "\n",
    "The jupyter notebook provided by the MedShapeNet dude (https://colab.research.google.com/github/Jianningli/medshapenet-feedback/blob/main/pip_install_MedShapeNetCore/getting_started.ipynb) suggest we can load and manipulate the datasets with the python library. Let's find out. "
   ]
  },
  {
   "cell_type": "code",
   "execution_count": 4,
   "id": "e3a31495-752c-402a-8cff-8c41567206e7",
   "metadata": {},
   "outputs": [
    {
     "name": "stderr",
     "output_type": "stream",
     "text": [
      "/Users/jason/Local/school/vision_project/venv/lib/python3.9/site-packages/urllib3/__init__.py:35: NotOpenSSLWarning: urllib3 v2 only supports OpenSSL 1.1.1+, currently the 'ssl' module is compiled with 'LibreSSL 2.8.3'. See: https://github.com/urllib3/urllib3/issues/3020\n",
      "  warnings.warn(\n"
     ]
    }
   ],
   "source": [
    "from MedShapeNetCore.MedShapeNetCore import MyDict,MSNLoader,MSNVisualizer,MSNSaver,MSNTransformer"
   ]
  },
  {
   "cell_type": "code",
   "execution_count": 5,
   "id": "13a7a7a7-3567-46d8-8e12-b41451459daf",
   "metadata": {},
   "outputs": [],
   "source": [
    "msn_loader=MSNLoader()\n",
    "msn_vis=MSNVisualizer()\n",
    "msn_saver=MSNSaver()\n",
    "msn_transformer=MSNTransformer()"
   ]
  },
  {
   "cell_type": "code",
   "execution_count": 6,
   "id": "450ab14a-047d-4195-957f-1f6336d1d5a0",
   "metadata": {},
   "outputs": [
    {
     "name": "stdout",
     "output_type": "stream",
     "text": [
      "current dataset: ./medshapenetcore_npz/medshapenetcore_AutoImplantCraniotomy.npz\n",
      "available keys in the dataset: ['mask']\n"
     ]
    }
   ],
   "source": [
    "data = msn_loader.load('AutoImplantCraniotomy') "
   ]
  },
  {
   "cell_type": "code",
   "execution_count": 8,
   "id": "f7cd8cff-4473-48b3-9cd2-18fe13a5d977",
   "metadata": {},
   "outputs": [],
   "source": [
    "volume = data['mask']\n",
    "points = data['point']\n",
    "#mesh_vertice = data['mesh']['vertices']\n",
    "mesh_face = data['mesh']['faces']"
   ]
  },
  {
   "cell_type": "code",
   "execution_count": 11,
   "id": "a8350ed4-2360-4798-8770-1e778b3321e1",
   "metadata": {},
   "outputs": [
    {
     "data": {
      "text/plain": [
       "MyDict([('faces', MyDict())])"
      ]
     },
     "execution_count": 11,
     "metadata": {},
     "output_type": "execute_result"
    }
   ],
   "source": [
    "# data ['mesh'] has no 'vertices' key... \n",
    "data['mesh']"
   ]
  },
  {
   "cell_type": "code",
   "execution_count": 9,
   "id": "b6b394c0-028b-48aa-8c9a-5c5382770497",
   "metadata": {},
   "outputs": [
    {
     "data": {
      "text/plain": [
       "11"
      ]
     },
     "execution_count": 9,
     "metadata": {},
     "output_type": "execute_result"
    }
   ],
   "source": [
    "len(volume) "
   ]
  },
  {
   "cell_type": "markdown",
   "id": "39ccb021-3972-4934-9309-fb4ad7be4f94",
   "metadata": {},
   "source": [
    "This is wrong?"
   ]
  },
  {
   "cell_type": "code",
   "execution_count": 12,
   "id": "0ea4ac79-f8e2-4f47-913d-b927f384b43a",
   "metadata": {},
   "outputs": [
    {
     "ename": "AttributeError",
     "evalue": "'MyDict' object has no attribute 'shape'",
     "output_type": "error",
     "traceback": [
      "\u001b[0;31m---------------------------------------------------------------------------\u001b[0m",
      "\u001b[0;31mAttributeError\u001b[0m                            Traceback (most recent call last)",
      "Cell \u001b[0;32mIn[12], line 1\u001b[0m\n\u001b[0;32m----> 1\u001b[0m \u001b[43mpoints\u001b[49m\u001b[38;5;241;43m.\u001b[39;49m\u001b[43mshape\u001b[49m\n",
      "\u001b[0;31mAttributeError\u001b[0m: 'MyDict' object has no attribute 'shape'"
     ]
    }
   ],
   "source": [
    "points.shape"
   ]
  },
  {
   "cell_type": "markdown",
   "id": "51baf315-9e79-4392-9464-a58ec9477cf3",
   "metadata": {},
   "source": [
    "This should also work, per the notebook. "
   ]
  },
  {
   "cell_type": "code",
   "execution_count": 14,
   "id": "cc2ac576-6501-43fd-a42c-5a1f1664f824",
   "metadata": {},
   "outputs": [
    {
     "ename": "AttributeError",
     "evalue": "'NoneType' object has no attribute 'shape'",
     "output_type": "error",
     "traceback": [
      "\u001b[0;31m---------------------------------------------------------------------------\u001b[0m",
      "\u001b[0;31mAttributeError\u001b[0m                            Traceback (most recent call last)",
      "Cell \u001b[0;32mIn[14], line 4\u001b[0m\n\u001b[1;32m      1\u001b[0m \u001b[38;5;66;03m#print(volume.shape)\u001b[39;00m\n\u001b[1;32m      2\u001b[0m \u001b[38;5;66;03m#print(points.shape)\u001b[39;00m\n\u001b[1;32m      3\u001b[0m \u001b[38;5;66;03m#print(mesh_vertice.shape)\u001b[39;00m\n\u001b[0;32m----> 4\u001b[0m \u001b[38;5;28mprint\u001b[39m(\u001b[43mmesh_face\u001b[49m\u001b[38;5;241;43m.\u001b[39;49m\u001b[43mshape\u001b[49m)\n\u001b[1;32m      5\u001b[0m \u001b[38;5;66;03m#print(mesh_vertice[0].shape) \u001b[39;00m\n",
      "\u001b[0;31mAttributeError\u001b[0m: 'NoneType' object has no attribute 'shape'"
     ]
    }
   ],
   "source": [
    "#print(volume.shape)\n",
    "#print(points.shape)\n",
    "#print(mesh_vertice.shape)\n",
    "print(mesh_face.shape)\n",
    "#print(mesh_vertice[0].shape) "
   ]
  },
  {
   "cell_type": "markdown",
   "id": "f8d8ca34-7d95-461b-9a2c-f9893ce14cc4",
   "metadata": {},
   "source": [
    "I guess they never tested the python package with the cranial data? :("
   ]
  },
  {
   "cell_type": "markdown",
   "id": "cd44af79-9e20-4d34-b89f-69a2fdbdb5cb",
   "metadata": {},
   "source": [
    "#### Conclusion"
   ]
  },
  {
   "cell_type": "markdown",
   "id": "12266d70-03b2-49ba-8b64-b8e0418de30e",
   "metadata": {},
   "source": [
    "This data is not easy to work with. It's messy, the code around it is buggy, and the data we can render is incomplete. Unclear if the clipping of the models is part of the challenge or if I'm just missing something. The images listed on the AutoImplant website (https://autoimplant2021.grand-challenge.org/Home/) are also clipped, I guess cranial implants only require a model of the ... cranium to design. This undermines to a certain degree the potential project here, either rendering a 3d skull from a 2d picture, or learning to recognize the models from 2d images. Well, at least it's a lot less compelling for every image to and model to be clipped from the nose down. **Find another dataset**"
   ]
  },
  {
   "cell_type": "markdown",
   "id": "9f9bd78c-68b5-4edb-8f7f-1479b4ebd318",
   "metadata": {},
   "source": [
    "## MUG500: 500 high-resolution human skulls"
   ]
  },
  {
   "cell_type": "markdown",
   "id": "80cb2384-3558-4f06-b3cc-1dbd5930ee18",
   "metadata": {},
   "source": [
    "I'm downloading all of the MedShapeNet skull models, it will take awhile, but sampling from what's been downloaded still looks rather unsatisfying. The MUG500 dataset I have downloading concurrently and this contains 500 complete high-res healthy human skulls. See https://pmc.ncbi.nlm.nih.gov/articles/PMC8591340/pdf/main.pdf This dataset could perhaps better support the goal of predicting a 3d shape based on a 2d image."
   ]
  },
  {
   "cell_type": "code",
   "execution_count": null,
   "id": "6cdefdaa-9eb8-4cbb-8ac0-1be285c55569",
   "metadata": {},
   "outputs": [],
   "source": []
  }
 ],
 "metadata": {
  "kernelspec": {
   "display_name": "vision",
   "language": "python",
   "name": "vision"
  },
  "language_info": {
   "codemirror_mode": {
    "name": "ipython",
    "version": 3
   },
   "file_extension": ".py",
   "mimetype": "text/x-python",
   "name": "python",
   "nbconvert_exporter": "python",
   "pygments_lexer": "ipython3",
   "version": "3.9.6"
  }
 },
 "nbformat": 4,
 "nbformat_minor": 5
}
